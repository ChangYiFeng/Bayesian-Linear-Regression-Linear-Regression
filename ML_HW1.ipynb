{
  "nbformat": 4,
  "nbformat_minor": 0,
  "metadata": {
    "colab": {
      "name": "ML HW1.ipynb",
      "provenance": [],
      "collapsed_sections": []
    },
    "kernelspec": {
      "name": "python3",
      "display_name": "Python 3"
    }
  },
  "cells": [
    {
      "cell_type": "code",
      "metadata": {
        "id": "84hSRC4n_-ZQ"
      },
      "source": [
        "import pandas as pd\n",
        "import numpy as np\n",
        "import itertools\n",
        "import matplotlib.pyplot as plt\n",
        "import math"
      ],
      "execution_count": 3,
      "outputs": []
    },
    {
      "cell_type": "markdown",
      "metadata": {
        "id": "YB3BVIoPEn6-"
      },
      "source": [
        "Import data and standarize."
      ]
    },
    {
      "cell_type": "code",
      "metadata": {
        "id": "JfopeCaiEnlh"
      },
      "source": [
        "student_resume_input = pd.read_csv(\"data_X.csv\",index_col=\"Serial_id\")\n",
        "admit_chance_target = pd.read_csv(\"data_T.csv\",index_col=\"Serial_id\")\n",
        "# normalize y = (x - min) / (max - min) or standardize\ty = (x - mean) / standard_deviation\n",
        "# student_resume_input = (student_resume_input-student_resume_input.mean())/student_resume_input.std()\n",
        "\n",
        "# arangement input\n",
        "train_x = student_resume_input.iloc[:int(len(student_resume_input) * 0.8)].values\n",
        "train_y = admit_chance_target.iloc[:int(len(admit_chance_target) * 0.8)].values\n",
        "test_x = student_resume_input.iloc[int(len(student_resume_input) * 0.8):].values\n",
        "test_y = admit_chance_target.iloc[int(len(admit_chance_target) * 0.8):].values"
      ],
      "execution_count": 4,
      "outputs": []
    },
    {
      "cell_type": "code",
      "metadata": {
        "id": "bJj9gSJu5q3D"
      },
      "source": [
        "class PolynomialRegression:\n",
        "  def __init__(self, feature_num):\n",
        "    self.feature_num = feature_num\n",
        "\n",
        "  def fit(self, x, y):\n",
        "    # Maximum likelihood and least squares\n",
        "    # w = (Phi^T・Phi)^(-1)・Phi^T・t\n",
        "    xTx = np.dot(x.T,x)\n",
        "    w = np.dot(np.dot(np.linalg.pinv(xTx),x.T),y)\n",
        "    return w\n",
        "\n",
        "  def RLS(self, x, y, lmbd):\n",
        "    # Regularized Least Squares\n",
        "    # w = (lambda・I + Phi^T・Phi)^-1 ・ Phi^T ・ t\n",
        "    xTx = np.dot(x.T,x)\n",
        "    I = np.eye(len(xTx))\n",
        "    rglr = np.dot(lmbd, I) + xTx\n",
        "    w = np.dot(np.dot(np.linalg.pinv(rglr),x.T),y)\n",
        "    return w\n",
        "\n",
        "  def RMSE(self, x, w, t):\n",
        "    E = (np.dot(x,w) - t) ** 2\n",
        "    Erms = math.sqrt(np.mean(E))\n",
        "    return Erms\n",
        "\n",
        "  def PhiMatrix(self, x, M):\n",
        "    pcol = np.ones((len(x),1))\n",
        "    for i in range(1,M+1):\n",
        "      for combination in list(itertools.combinations_with_replacement(range(self.feature_num), i)):\n",
        "        # combinations_with_replacement('ABCD', 2) => AA AB AC AD BB BC BD CC CD DD\n",
        "        # concatenate: axis=1 => AAABACADBBBCBDCCCDDD\n",
        "        new_pcol = np.expand_dims(np.prod(x[:, combination], axis = 1), axis = 1)\n",
        "        pcol = np.concatenate((pcol,new_pcol),axis=1)\n",
        "    return pcol"
      ],
      "execution_count": 5,
      "outputs": []
    },
    {
      "cell_type": "markdown",
      "metadata": {
        "id": "xeVYAsX9zix0"
      },
      "source": [
        "**2-1-a**  Feature Select - Evaluate RMS error"
      ]
    },
    {
      "cell_type": "code",
      "metadata": {
        "id": "wcctHsnD8DZg",
        "outputId": "5dbec7f2-89b9-472e-8e5e-5f20a133f713",
        "colab": {
          "base_uri": "https://localhost:8080/",
          "height": 334
        }
      },
      "source": [
        "M_max = 2\n",
        "train_RMSE = []\n",
        "test_RMSE = []\n",
        "\n",
        "PR = PolynomialRegression(feature_num=7)\n",
        "\n",
        "for m in range(1, M_max+1):\n",
        "  train_xnew = PR.PhiMatrix(train_x,m)\n",
        "  test_xnew = PR.PhiMatrix(test_x,m)\n",
        "  w = PR.fit(train_xnew,train_y)\n",
        "  RMSError_train = PR.RMSE(train_xnew, w, train_y)\n",
        "  RMSError_test = PR.RMSE(test_xnew, w, test_y)\n",
        "\n",
        "  train_RMSE.append(RMSError_train)\n",
        "  test_RMSE.append(RMSError_test)\n",
        "# print(w)\n",
        "\n",
        "plt.plot([i for i in range(1,M_max+1)],train_RMSE,marker='o',label='train')\n",
        "plt.plot([i for i in range(1,M_max+1)],test_RMSE,marker='o',label='test')\n",
        "\n",
        "plt.xlabel('M',fontsize=14)\n",
        "plt.ylabel('RMSE',fontsize=14)\n",
        "plt.legend()\n",
        "plt.title(\"RMSE\",fontsize=14)\n",
        "plt.show()\n",
        "\n",
        "for i in range(1, M_max+1):\n",
        "  print(\"M=%d, training RMSE: %f, testing RMSE: %f\" % (i, train_RMSE[i-1], test_RMSE[i-1]))\n"
      ],
      "execution_count": 6,
      "outputs": [
        {
          "output_type": "display_data",
          "data": {
            "image/png": "[encoded data removed]",
            "text/plain": [
              "<Figure size 432x288 with 1 Axes>"
            ]
          },
          "metadata": {
            "tags": [],
            "needs_background": "light"
          }
        },
        {
          "output_type": "stream",
          "text": [
            "M=1, training RMSE: 0.063142, testing RMSE: 0.042932\n",
            "M=2, training RMSE: 0.060157, testing RMSE: 0.048945\n"
          ],
          "name": "stdout"
        }
      ]
    },
    {
      "cell_type": "markdown",
      "metadata": {
        "id": "wuCusjOl8dQr"
      },
      "source": [
        "**2-1-b**  Feature Select - Analyze weight and select the most contributive feature"
      ]
    },
    {
      "cell_type": "code",
      "metadata": {
        "id": "ycX35rz61DPE",
        "outputId": "130cd2bb-b36a-401b-bc06-8d2a2d88faa5",
        "colab": {
          "base_uri": "https://localhost:8080/"
        }
      },
      "source": [
        "M_max = 1\n",
        "train_RMSE = []\n",
        "test_RMSE = []\n",
        "\n",
        "PR = PolynomialRegression(feature_num=7)\n",
        "\n",
        "for m in range(1, M_max+1):\n",
        "  train_xnew = PR.PhiMatrix(train_x,m)\n",
        "  test_xnew = PR.PhiMatrix(test_x,m)\n",
        "  w = PR.fit(train_xnew,train_y)\n",
        "  RMSError_train = PR.RMSE(train_xnew, w, train_y)\n",
        "  RMSError_test = PR.RMSE(test_xnew, w, test_y)\n",
        "  \n",
        "  train_RMSE.append(RMSError_train)\n",
        "  test_RMSE.append(RMSError_test)\n",
        "print(\"Weights for M=1:\\n\",w)\n",
        "print()\n",
        "\n",
        "Dimen = {0,1,2,3,4,5,6}\n",
        "for feature_attri in list(itertools.combinations(range(0,7),6)):\n",
        "  FAPR = PolynomialRegression(feature_num=len(feature_attri))\n",
        "  fa_train_x = FAPR.PhiMatrix(train_x[:,list(feature_attri)],1)\n",
        "  w = FAPR.fit(fa_train_x,train_y)\n",
        "  RMSError_fa = FAPR.RMSE(fa_train_x,w,train_y)\n",
        "  setF = set(list(feature_attri))\n",
        "\n",
        "  print(\"Dimension M:%d, Judge_index: \" % (1), Dimen^setF, \"\\nRMSE: \", RMSError_fa)\n",
        "  print()"
      ],
      "execution_count": 7,
      "outputs": [
        {
          "output_type": "stream",
          "text": [
            "Weights for M=1:\n",
            " [[-1.25943248]\n",
            " [ 0.00173741]\n",
            " [ 0.00291958]\n",
            " [ 0.00571666]\n",
            " [-0.00330517]\n",
            " [ 0.02235313]\n",
            " [ 0.11893945]\n",
            " [ 0.02452511]]\n",
            "\n",
            "Dimension M:1, Judge_index:  {6} \n",
            "RMSE:  0.06390185725541248\n",
            "\n",
            "Dimension M:1, Judge_index:  {5} \n",
            "RMSE:  0.07035976310693098\n",
            "\n",
            "Dimension M:1, Judge_index:  {4} \n",
            "RMSE:  0.06443899165693007\n",
            "\n",
            "Dimension M:1, Judge_index:  {3} \n",
            "RMSE:  0.06317028722316699\n",
            "\n",
            "Dimension M:1, Judge_index:  {2} \n",
            "RMSE:  0.0632574013178459\n",
            "\n",
            "Dimension M:1, Judge_index:  {1} \n",
            "RMSE:  0.06371753663473695\n",
            "\n",
            "Dimension M:1, Judge_index:  {0} \n",
            "RMSE:  0.06381829679381827\n",
            "\n"
          ],
          "name": "stdout"
        }
      ]
    },
    {
      "cell_type": "markdown",
      "metadata": {
        "id": "Oo5Gi1gF9oAt"
      },
      "source": [
        "首先印出 M=1 時，各 weight 的值(第一項對應 bias W0)，\n",
        "可以看到 w5(對應第六項feature)的值最大。\n",
        "接著輪流剔除一項feature，放入 model 計算RMSE，可以看到剔除 feature[5] 的 RMSE 最大。由以上結果可推知第六項 feature - CGPA 的貢獻最大。"
      ]
    },
    {
      "cell_type": "markdown",
      "metadata": {
        "id": "5zLscLMbAWMv"
      },
      "source": [
        "**2-2-b**  Introduce the basis function you just decided in (a) to linear regression model and analyze the result you get."
      ]
    },
    {
      "cell_type": "code",
      "metadata": {
        "id": "04OyNlyb3VJH",
        "outputId": "a51a0c4b-bda0-4d8f-ade2-3e6657a7f8a5",
        "colab": {
          "base_uri": "https://localhost:8080/",
          "height": 363
        }
      },
      "source": [
        "def Gaussian(x, mean, sigma):\n",
        "  return np.exp(-1 * (x-mean)**2 / (2* (sigma**2)))\n",
        "\n",
        "def Sigmoid(x, mean, sigma):\n",
        "  return 1 / ( 1 + np.exp( -(x-mean) / sigma))\n",
        "\n",
        "trainx_Phi = np.ones(train_x.shape)\n",
        "testx_Phi = np.ones(test_x.shape)\n",
        "\n",
        "method = Gaussian\n",
        "# method = Sigmoid\n",
        "sigma = 0.1\n",
        "M_max = 4\n",
        "\n",
        "# put basis function into Phi matrix\n",
        "if method == Gaussian:\n",
        "  for i in range(train_x.shape[1]):\n",
        "    trainx_Phi[:,i] = Gaussian(train_x[:,i], train_x[:,i].mean(), sigma)\n",
        "  for i in range(test_x.shape[1]):\n",
        "    testx_Phi[:,i] = Gaussian(test_x[:,i], train_x[:,i].mean(), sigma)\n",
        "elif method == Sigmoid:\n",
        "  for i in range(train_x.shape[1]):\n",
        "    trainx_Phi[:,i] = Sigmoid(train_x[:,i], train_x[:,i].mean(), sigma)\n",
        "  for i in range(test_x.shape[1]):\n",
        "    testx_Phi[:,i] = Sigmoid(test_x[:,i], train_x[:,i].mean(), sigma)\n",
        "\n",
        "train_RMSE = []\n",
        "test_RMSE = []\n",
        "\n",
        "PR = PolynomialRegression(feature_num=7)\n",
        "\n",
        "# f(g(x))\n",
        "for m in range(1, M_max+1):\n",
        "  train_xnew = PR.PhiMatrix(trainx_Phi,m)\n",
        "  test_xnew = PR.PhiMatrix(testx_Phi,m)\n",
        "  w = PR.fit(train_xnew,train_y)\n",
        "  RMSError_train = PR.RMSE(train_xnew, w, train_y)\n",
        "  RMSError_test = PR.RMSE(test_xnew, w, test_y)\n",
        "\n",
        "  train_RMSE.append(RMSError_train)\n",
        "  test_RMSE.append(RMSError_test)\n",
        "# print(w)\n",
        "\n",
        "plt.plot([i for i in range(1,M_max+1)],train_RMSE,marker='o',label='train')\n",
        "plt.plot([i for i in range(1,M_max+1)],test_RMSE,marker='o',label='test')\n",
        "\n",
        "plt.xlabel('M')\n",
        "plt.ylabel('RMSE')\n",
        "plt.legend()\n",
        "plt.title(\"RMSE\")\n",
        "plt.show()\n",
        "\n",
        "for i in range(1, M_max+1):\n",
        "  print(\"M=%d, training RMSE: %f, testing RMSE: %f\" % (i, train_RMSE[i-1], test_RMSE[i-1]))\n"
      ],
      "execution_count": 8,
      "outputs": [
        {
          "output_type": "display_data",
          "data": {
            "image/png": "[encoded data removed]",
            "text/plain": [
              "<Figure size 432x288 with 1 Axes>"
            ]
          },
          "metadata": {
            "tags": [],
            "needs_background": "light"
          }
        },
        {
          "output_type": "stream",
          "text": [
            "M=1, training RMSE: 0.117800, testing RMSE: 0.117878\n",
            "M=2, training RMSE: 0.108118, testing RMSE: 0.119880\n",
            "M=3, training RMSE: 0.101038, testing RMSE: 0.135055\n",
            "M=4, training RMSE: 0.098770, testing RMSE: 0.455512\n"
          ],
          "name": "stdout"
        }
      ]
    },
    {
      "cell_type": "markdown",
      "metadata": {
        "id": "R4CVyZMCBZ5a"
      },
      "source": [
        "**2-2-c**  Apply N-fold cross-validation in your training stage to select at least one hyper-parameter for model."
      ]
    },
    {
      "cell_type": "code",
      "metadata": {
        "id": "6Z1Y3BnU50Vz",
        "outputId": "21a3a5f1-03d0-497c-ee30-56715d23f76d",
        "colab": {
          "base_uri": "https://localhost:8080/",
          "height": 1000
        }
      },
      "source": [
        "# N-fold (K-fold) cross-validation\n",
        "K = 4\n",
        "M_max = 4\n",
        "\n",
        "X = student_resume_input.iloc[:int(len(student_resume_input) * 0.8)]\n",
        "Y = admit_chance_target.iloc[:int(len(admit_chance_target) * 0.8)]\n",
        "\n",
        "train_x_0 = train_x[int(len(train_x) * 0.25):]\n",
        "train_y_0 = train_y[int(len(train_y) * 0.25):]\n",
        "valid_x_0 = train_x[:int(len(train_x) * 0.25)]\n",
        "valid_y_0 = train_y[:int(len(train_y) * 0.25)]\n",
        "\n",
        "train_x_1 = np.vstack((X[:int(len(X) * 0.25)], X[int(len(X) * 0.5):]))\n",
        "train_y_1 = np.vstack((Y[:int(len(Y) * 0.25)], Y[int(len(Y) * 0.5):]))\n",
        "valid_x_1 = train_x[int(len(train_x) * 0.25):int(len(train_x) * 0.5)]\n",
        "valid_y_1 = train_y[int(len(train_x) * 0.25):int(len(train_x) * 0.5)]\n",
        "\n",
        "train_x_2 = np.vstack((X[:int(len(X) * 0.5)], X[int(len(X) * 0.75):]))\n",
        "train_y_2 = np.vstack((Y[:int(len(Y) * 0.5)], Y[int(len(Y) * 0.75):]))\n",
        "valid_x_2 = train_x[int(len(train_x) * 0.5):int(len(train_x) * 0.75)]\n",
        "valid_y_2 = train_y[int(len(train_x) * 0.5):int(len(train_x) * 0.75)]\n",
        "\n",
        "train_x_3 = train_x[:int(len(train_x) * 0.75)]\n",
        "train_y_3 = train_y[:int(len(train_y) * 0.75)]\n",
        "valid_x_3 = train_x[int(len(train_x) * 0.75):]\n",
        "valid_y_3 = train_y[int(len(train_y) * 0.75):]\n",
        "\n",
        "method = Gaussian\n",
        "# method = Sigmoid\n",
        "sigma = 0.099\n",
        "M_max = 4\n",
        "\n",
        "for i in range(K):\n",
        "  if i == 0:\n",
        "    Trainx_Phi = np.ones(train_x_0.shape)\n",
        "    Validx_Phi = np.ones(valid_x_0.shape)\n",
        "    train_RMSE0 = []\n",
        "    valid_RMSE0 = []\n",
        "    for i in range(train_x_0.shape[1]):\n",
        "      Trainx_Phi[:,i] = Gaussian(train_x_0[:,i], train_x_0[:,i].mean(), sigma)\n",
        "    for i in range(valid_x_0.shape[1]):\n",
        "      Validx_Phi[:,i] = Gaussian(valid_x_0[:,i], train_x_0[:,i].mean(), sigma)\n",
        "    \n",
        "    for m in range(1, M_max+1):\n",
        "      Train_xnew = PR.PhiMatrix(Trainx_Phi,m)\n",
        "      Valid_xnew = PR.PhiMatrix(Validx_Phi,m)\n",
        "      w = PR.fit(Train_xnew,train_y_0)\n",
        "      RMSError_train = PR.RMSE(Train_xnew, w, train_y_0)\n",
        "      RMSError_valid = PR.RMSE(Valid_xnew, w, valid_y_0)\n",
        "\n",
        "      train_RMSE0.append(RMSError_train)\n",
        "      valid_RMSE0.append(RMSError_valid)\n",
        "    # print(w)\n",
        "\n",
        "    plt.plot([i for i in range(1,M_max+1)],train_RMSE0,marker='o',label='train_0')\n",
        "    plt.plot([i for i in range(1,M_max+1)],valid_RMSE0,marker='o',label='valid_0')\n",
        "\n",
        "    plt.xlabel('M')\n",
        "    plt.ylabel('RMSE')\n",
        "    # plt.ylim(0,1)\n",
        "    plt.legend()\n",
        "    plt.title(\"RMSE\")\n",
        "    plt.show()\n",
        "\n",
        "    for i in range(1, M_max+1):\n",
        "      print(\"M=%d, training RMSE: %f, validation RMSE: %f\" % (i, train_RMSE0[i-1], valid_RMSE0[i-1]))\n",
        "\n",
        "  elif i == 1:\n",
        "    Trainx_Phi = np.ones(train_x_1.shape)\n",
        "    Validx_Phi = np.ones(valid_x_1.shape)\n",
        "    train_RMSE1 = []\n",
        "    valid_RMSE1 = []\n",
        "\n",
        "    for i in range(train_x_0.shape[1]):\n",
        "      Trainx_Phi[:,i] = Gaussian(train_x_1[:,i], train_x_1[:,i].mean(), sigma)\n",
        "    for i in range(valid_x_0.shape[1]):\n",
        "      Validx_Phi[:,i] = Gaussian(valid_x_1[:,i], train_x_1[:,i].mean(), sigma)\n",
        "\n",
        "    for m in range(1, M_max+1):\n",
        "      Train_xnew = PR.PhiMatrix(Trainx_Phi,m)\n",
        "      Valid_xnew = PR.PhiMatrix(Validx_Phi,m)\n",
        "      w = PR.fit(Train_xnew,train_y_1)\n",
        "      RMSError_train = PR.RMSE(Train_xnew, w, train_y_1)\n",
        "      RMSError_valid = PR.RMSE(Valid_xnew, w, valid_y_1)\n",
        "\n",
        "      train_RMSE1.append(RMSError_train)\n",
        "      valid_RMSE1.append(RMSError_valid)\n",
        "    # print(w)\n",
        "\n",
        "    plt.plot([i for i in range(1,M_max+1)],train_RMSE1,marker='o',label='train_1')\n",
        "    plt.plot([i for i in range(1,M_max+1)],valid_RMSE1,marker='o',label='valid_1')\n",
        "\n",
        "    plt.xlabel('M')\n",
        "    plt.ylabel('RMSE')\n",
        "    # plt.ylim(0,1)\n",
        "    plt.legend()\n",
        "    plt.title(\"RMSE\")\n",
        "    plt.show()\n",
        "\n",
        "    for i in range(1, M_max+1):\n",
        "      print(\"M=%d, training RMSE: %f, validation RMSE: %f\" % (i, train_RMSE1[i-1], valid_RMSE1[i-1]))\n",
        "\n",
        "  elif i == 2:\n",
        "    Trainx_Phi = np.ones(train_x_2.shape)\n",
        "    Validx_Phi = np.ones(valid_x_2.shape)\n",
        "    train_RMSE2 = []\n",
        "    valid_RMSE2 = []\n",
        "\n",
        "    for i in range(train_x_0.shape[1]):\n",
        "      Trainx_Phi[:,i] = Gaussian(train_x_2[:,i], train_x_2[:,i].mean(), sigma)\n",
        "    for i in range(valid_x_0.shape[1]):\n",
        "      Validx_Phi[:,i] = Gaussian(valid_x_2[:,i], train_x_2[:,i].mean(), sigma)\n",
        "\n",
        "    for m in range(1, M_max+1):\n",
        "      Train_xnew = PR.PhiMatrix(Trainx_Phi,m)\n",
        "      Valid_xnew = PR.PhiMatrix(Validx_Phi,m)\n",
        "      w = PR.fit(Train_xnew,train_y_2)\n",
        "      RMSError_train = PR.RMSE(Train_xnew, w, train_y_2)\n",
        "      RMSError_valid = PR.RMSE(Valid_xnew, w, valid_y_2)\n",
        "\n",
        "      train_RMSE2.append(RMSError_train)\n",
        "      valid_RMSE2.append(RMSError_valid)\n",
        "    # print(w)\n",
        "\n",
        "    plt.plot([i for i in range(1,M_max+1)],train_RMSE2,marker='o',label='train_2')\n",
        "    plt.plot([i for i in range(1,M_max+1)],valid_RMSE2,marker='o',label='valid_2')\n",
        "\n",
        "    plt.xlabel('M')\n",
        "    plt.ylabel('RMSE')\n",
        "    # plt.ylim(0,1)\n",
        "    plt.legend()\n",
        "    plt.title(\"RMSE\")\n",
        "    plt.show()\n",
        "\n",
        "    for i in range(1, M_max+1):\n",
        "      print(\"M=%d, training RMSE: %f, validation RMSE: %f\" % (i, train_RMSE2[i-1], valid_RMSE2[i-1]))\n",
        "\n",
        "  elif i == 3:\n",
        "    trainx_Phi = np.ones(train_x_3.shape)\n",
        "    validx_Phi = np.ones(valid_x_3.shape)\n",
        "    train_RMSE3 = []\n",
        "    valid_RMSE3 = []\n",
        "\n",
        "    for i in range(train_x_0.shape[1]):\n",
        "      Trainx_Phi[:,i] = Gaussian(train_x_3[:,i], train_x_3[:,i].mean(), sigma)\n",
        "    for i in range(valid_x_0.shape[1]):\n",
        "      Validx_Phi[:,i] = Gaussian(valid_x_3[:,i], train_x_3[:,i].mean(), sigma)\n",
        "\n",
        "    for m in range(1, M_max+1):\n",
        "      Train_xnew = PR.PhiMatrix(Trainx_Phi,m)\n",
        "      Valid_xnew = PR.PhiMatrix(Validx_Phi,m)\n",
        "      w = PR.fit(Train_xnew,train_y_3)\n",
        "      RMSError_train = PR.RMSE(Train_xnew, w, train_y_3)\n",
        "      RMSError_valid = PR.RMSE(Valid_xnew, w, valid_y_3)\n",
        "\n",
        "      train_RMSE3.append(RMSError_train)\n",
        "      valid_RMSE3.append(RMSError_valid)\n",
        "    # print(w)\n",
        "\n",
        "    plt.plot([i for i in range(1,M_max+1)],train_RMSE3,marker='o',label='train_3')\n",
        "    plt.plot([i for i in range(1,M_max+1)],valid_RMSE3,marker='o',label='valid_3')\n",
        "\n",
        "    plt.xlabel('M')\n",
        "    plt.ylabel('RMSE')\n",
        "    # plt.ylim(0,1)\n",
        "    plt.legend()\n",
        "    plt.title(\"RMSE\")\n",
        "    plt.show()\n",
        "\n",
        "    for i in range(1, M_max+1):\n",
        "      print(\"M=%d, training RMSE: %f, validation RMSE: %f\" % (i, train_RMSE3[i-1], valid_RMSE3[i-1]))\n",
        "\n",
        "print()\n",
        "Valid_mean = []\n",
        "for i in range(M_max):\n",
        "  Valid_mean.append((valid_RMSE0[i] + valid_RMSE1[i] + valid_RMSE2[i] + valid_RMSE3[i]) / M_max)\n",
        "  print(\"For M = %d, average of validation error = %f\" % (i+1, Valid_mean[i]))"
      ],
      "execution_count": 9,
      "outputs": [
        {
          "output_type": "display_data",
          "data": {
            "image/png": "[encoded data removed]",
            "text/plain": [
              "<Figure size 432x288 with 1 Axes>"
            ]
          },
          "metadata": {
            "tags": [],
            "needs_background": "light"
          }
        },
        {
          "output_type": "stream",
          "text": [
            "M=1, training RMSE: 0.098338, validation RMSE: 0.166663\n",
            "M=2, training RMSE: 0.085581, validation RMSE: 0.172014\n",
            "M=3, training RMSE: 0.080584, validation RMSE: 0.162829\n",
            "M=4, training RMSE: 0.078030, validation RMSE: 2.034917\n"
          ],
          "name": "stdout"
        },
        {
          "output_type": "display_data",
          "data": {
            "image/png": "[encoded data removed]",
            "text/plain": [
              "<Figure size 432x288 with 1 Axes>"
            ]
          },
          "metadata": {
            "tags": [],
            "needs_background": "light"
          }
        },
        {
          "output_type": "stream",
          "text": [
            "M=1, training RMSE: 0.122146, validation RMSE: 0.107293\n",
            "M=2, training RMSE: 0.110931, validation RMSE: 0.109193\n",
            "M=3, training RMSE: 0.105295, validation RMSE: 0.404435\n",
            "M=4, training RMSE: 0.102881, validation RMSE: 802.751612\n"
          ],
          "name": "stdout"
        },
        {
          "output_type": "display_data",
          "data": {
            "image/png": "[encoded data removed]",
            "text/plain": [
              "<Figure size 432x288 with 1 Axes>"
            ]
          },
          "metadata": {
            "tags": [],
            "needs_background": "light"
          }
        },
        {
          "output_type": "stream",
          "text": [
            "M=1, training RMSE: 0.122544, validation RMSE: 0.106402\n",
            "M=2, training RMSE: 0.112432, validation RMSE: 0.135585\n",
            "M=3, training RMSE: 0.102694, validation RMSE: 0.139145\n",
            "M=4, training RMSE: 0.099619, validation RMSE: 0.886167\n"
          ],
          "name": "stdout"
        },
        {
          "output_type": "display_data",
          "data": {
            "image/png": "[encoded data removed]",
            "text/plain": [
              "<Figure size 432x288 with 1 Axes>"
            ]
          },
          "metadata": {
            "tags": [],
            "needs_background": "light"
          }
        },
        {
          "output_type": "stream",
          "text": [
            "M=1, training RMSE: 0.123066, validation RMSE: 0.104566\n",
            "M=2, training RMSE: 0.113704, validation RMSE: 0.105898\n",
            "M=3, training RMSE: 0.108538, validation RMSE: 16.033955\n",
            "M=4, training RMSE: 0.105984, validation RMSE: 618.134650\n",
            "\n",
            "For M = 1, average of validation error = 0.121231\n",
            "For M = 2, average of validation error = 0.130673\n",
            "For M = 3, average of validation error = 4.185091\n",
            "For M = 4, average of validation error = 355.951837\n"
          ],
          "name": "stdout"
        }
      ]
    },
    {
      "cell_type": "markdown",
      "metadata": {
        "id": "MWxUGxWdDrhB"
      },
      "source": [
        "**2-3-b**  Use Maximum a posterior approach method to retest the model in 2-2 you designed. You could choose Gaussian distribution as a prior."
      ]
    },
    {
      "cell_type": "code",
      "metadata": {
        "id": "aWPhJiXYtl25",
        "outputId": "97686014-5552-4128-8197-2d879cfd03a8",
        "colab": {
          "base_uri": "https://localhost:8080/",
          "height": 363
        }
      },
      "source": [
        "trainx_Phi = np.ones(train_x.shape)\n",
        "testx_Phi = np.ones(test_x.shape)\n",
        "\n",
        "# method = Gaussian\n",
        "sigma = 0.1\n",
        "M_max = 4\n",
        "lmbd = 0.1\n",
        "\n",
        "# put basis function into Phi matrix\n",
        "for i in range(train_x.shape[1]):\n",
        "  trainx_Phi[:,i] = Gaussian(train_x[:,i], train_x[:,i].mean(), sigma)\n",
        "for i in range(test_x.shape[1]):\n",
        "  testx_Phi[:,i] = Gaussian(test_x[:,i], train_x[:,i].mean(), sigma)\n",
        "\n",
        "train_RMSE = []\n",
        "test_RMSE = []\n",
        "\n",
        "PR = PolynomialRegression(feature_num=7)\n",
        "\n",
        "# f(g(x))\n",
        "for m in range(1, M_max+1):\n",
        "  train_xnew = PR.PhiMatrix(trainx_Phi,m)\n",
        "  test_xnew = PR.PhiMatrix(testx_Phi,m)\n",
        "  w = PR.RLS(train_xnew,train_y,lmbd)\n",
        "  RMSError_train = PR.RMSE(train_xnew, w, train_y)\n",
        "  RMSError_test = PR.RMSE(test_xnew, w, test_y)\n",
        "\n",
        "  train_RMSE.append(RMSError_train)\n",
        "  test_RMSE.append(RMSError_test)\n",
        "# print(w)\n",
        "\n",
        "plt.plot([i for i in range(1,M_max+1)],train_RMSE,marker='o',label='train')\n",
        "plt.plot([i for i in range(1,M_max+1)],test_RMSE,marker='o',label='test')\n",
        "\n",
        "plt.xlabel('M')\n",
        "plt.ylabel('RMSE')\n",
        "plt.legend()\n",
        "plt.title(\"RMSE\")\n",
        "plt.show()\n",
        "\n",
        "for i in range(1, M_max+1):\n",
        "  print(\"M=%d, training RMSE: %f, testing RMSE: %f\" % (i, train_RMSE[i-1], test_RMSE[i-1]))\n"
      ],
      "execution_count": 10,
      "outputs": [
        {
          "output_type": "display_data",
          "data": {
            "image/png": "[encoded data removed]",
            "text/plain": [
              "<Figure size 432x288 with 1 Axes>"
            ]
          },
          "metadata": {
            "tags": [],
            "needs_background": "light"
          }
        },
        {
          "output_type": "stream",
          "text": [
            "M=1, training RMSE: 0.142037, testing RMSE: 0.134219\n",
            "M=2, training RMSE: 0.141688, testing RMSE: 0.132992\n",
            "M=3, training RMSE: 0.140991, testing RMSE: 0.133210\n",
            "M=4, training RMSE: 0.140763, testing RMSE: 0.133422\n"
          ],
          "name": "stdout"
        }
      ]
    },
    {
      "cell_type": "code",
      "metadata": {
        "id": "Q_Ki13FW6iP0",
        "outputId": "7f9e42b1-9171-48d9-c991-bedef0765453",
        "colab": {
          "base_uri": "https://localhost:8080/",
          "height": 1000
        }
      },
      "source": [
        "method = Gaussian\n",
        "sigma = 0.1\n",
        "M_max = 4\n",
        "lmbd = 0.1\n",
        "\n",
        "for i in range(K):\n",
        "  if i == 0:\n",
        "    Trainx_Phi = np.ones(train_x_0.shape)\n",
        "    Validx_Phi = np.ones(valid_x_0.shape)\n",
        "    train_RMSE0 = []\n",
        "    valid_RMSE0 = []\n",
        "    for i in range(train_x_0.shape[1]):\n",
        "      Trainx_Phi[:,i] = Gaussian(train_x_0[:,i], train_x_0[:,i].mean(), sigma)\n",
        "    for i in range(valid_x_0.shape[1]):\n",
        "      Validx_Phi[:,i] = Gaussian(valid_x_0[:,i], train_x_0[:,i].mean(), sigma)\n",
        "    \n",
        "    for m in range(1, M_max+1):\n",
        "      Train_xnew = PR.PhiMatrix(Trainx_Phi,m)\n",
        "      Valid_xnew = PR.PhiMatrix(Validx_Phi,m)\n",
        "      w = PR.RLS(Train_xnew,train_y_0,lmbd)\n",
        "      RMSError_train = PR.RMSE(Train_xnew, w, train_y_0)\n",
        "      RMSError_valid = PR.RMSE(Valid_xnew, w, valid_y_0)\n",
        "\n",
        "      train_RMSE0.append(RMSError_train)\n",
        "      valid_RMSE0.append(RMSError_valid)\n",
        "    # print(w)\n",
        "\n",
        "    plt.plot([i for i in range(1,M_max+1)],train_RMSE0,marker='o',label='train_0')\n",
        "    plt.plot([i for i in range(1,M_max+1)],valid_RMSE0,marker='o',label='valid_0')\n",
        "\n",
        "    plt.xlabel('M')\n",
        "    plt.ylabel('RMSE')\n",
        "    # plt.ylim(0,1)\n",
        "    plt.legend()\n",
        "    plt.title(\"RMSE\")\n",
        "    plt.show()\n",
        "\n",
        "    for i in range(1, M_max+1):\n",
        "      print(\"M=%d, training RMSE: %f, validation RMSE: %f\" % (i, train_RMSE0[i-1], valid_RMSE0[i-1]))\n",
        "\n",
        "  elif i == 1:\n",
        "    Trainx_Phi = np.ones(train_x_1.shape)\n",
        "    Validx_Phi = np.ones(valid_x_1.shape)\n",
        "    train_RMSE1 = []\n",
        "    valid_RMSE1 = []\n",
        "\n",
        "    for i in range(train_x_0.shape[1]):\n",
        "      Trainx_Phi[:,i] = Gaussian(train_x_1[:,i], train_x_1[:,i].mean(), sigma)\n",
        "    for i in range(valid_x_0.shape[1]):\n",
        "      Validx_Phi[:,i] = Gaussian(valid_x_1[:,i], train_x_1[:,i].mean(), sigma)\n",
        "\n",
        "    for m in range(1, M_max+1):\n",
        "      Train_xnew = PR.PhiMatrix(Trainx_Phi,m)\n",
        "      Valid_xnew = PR.PhiMatrix(Validx_Phi,m)\n",
        "      w = PR.RLS(Train_xnew,train_y_1,lmbd)\n",
        "      RMSError_train = PR.RMSE(Train_xnew, w, train_y_1)\n",
        "      RMSError_valid = PR.RMSE(Valid_xnew, w, valid_y_1)\n",
        "\n",
        "      train_RMSE1.append(RMSError_train)\n",
        "      valid_RMSE1.append(RMSError_valid)\n",
        "    # print(w)\n",
        "\n",
        "    plt.plot([i for i in range(1,M_max+1)],train_RMSE1,marker='o',label='train_1')\n",
        "    plt.plot([i for i in range(1,M_max+1)],valid_RMSE1,marker='o',label='valid_1')\n",
        "\n",
        "    plt.xlabel('M')\n",
        "    plt.ylabel('RMSE')\n",
        "    # plt.ylim(0,1)\n",
        "    plt.legend()\n",
        "    plt.title(\"RMSE\")\n",
        "    plt.show()\n",
        "\n",
        "    for i in range(1, M_max+1):\n",
        "      print(\"M=%d, training RMSE: %f, validation RMSE: %f\" % (i, train_RMSE1[i-1], valid_RMSE1[i-1]))\n",
        "\n",
        "  elif i == 2:\n",
        "    Trainx_Phi = np.ones(train_x_2.shape)\n",
        "    Validx_Phi = np.ones(valid_x_2.shape)\n",
        "    train_RMSE2 = []\n",
        "    valid_RMSE2 = []\n",
        "\n",
        "    for i in range(train_x_0.shape[1]):\n",
        "      Trainx_Phi[:,i] = Gaussian(train_x_2[:,i], train_x_2[:,i].mean(), sigma)\n",
        "    for i in range(valid_x_0.shape[1]):\n",
        "      Validx_Phi[:,i] = Gaussian(valid_x_2[:,i], train_x_2[:,i].mean(), sigma)\n",
        "\n",
        "    for m in range(1, M_max+1):\n",
        "      Train_xnew = PR.PhiMatrix(Trainx_Phi,m)\n",
        "      Valid_xnew = PR.PhiMatrix(Validx_Phi,m)\n",
        "      w = PR.RLS(Train_xnew,train_y_2,lmbd)\n",
        "      RMSError_train = PR.RMSE(Train_xnew, w, train_y_2)\n",
        "      RMSError_valid = PR.RMSE(Valid_xnew, w, valid_y_2)\n",
        "\n",
        "      train_RMSE2.append(RMSError_train)\n",
        "      valid_RMSE2.append(RMSError_valid)\n",
        "    # print(w)\n",
        "\n",
        "    plt.plot([i for i in range(1,M_max+1)],train_RMSE2,marker='o',label='train_2')\n",
        "    plt.plot([i for i in range(1,M_max+1)],valid_RMSE2,marker='o',label='valid_2')\n",
        "\n",
        "    plt.xlabel('M')\n",
        "    plt.ylabel('RMSE')\n",
        "    # plt.ylim(0,1)\n",
        "    plt.legend()\n",
        "    plt.title(\"RMSE\")\n",
        "    plt.show()\n",
        "\n",
        "    for i in range(1, M_max+1):\n",
        "      print(\"M=%d, training RMSE: %f, validation RMSE: %f\" % (i, train_RMSE2[i-1], valid_RMSE2[i-1]))\n",
        "\n",
        "  elif i == 3:\n",
        "    trainx_Phi = np.ones(train_x_3.shape)\n",
        "    validx_Phi = np.ones(valid_x_3.shape)\n",
        "    train_RMSE3 = []\n",
        "    valid_RMSE3 = []\n",
        "\n",
        "    for i in range(train_x_0.shape[1]):\n",
        "      Trainx_Phi[:,i] = Gaussian(train_x_3[:,i], train_x_3[:,i].mean(), sigma)\n",
        "    for i in range(valid_x_0.shape[1]):\n",
        "      Validx_Phi[:,i] = Gaussian(valid_x_3[:,i], train_x_3[:,i].mean(), sigma)\n",
        "\n",
        "    for m in range(1, M_max+1):\n",
        "      Train_xnew = PR.PhiMatrix(Trainx_Phi,m)\n",
        "      Valid_xnew = PR.PhiMatrix(Validx_Phi,m)\n",
        "      w = PR.RLS(Train_xnew,train_y_3,lmbd)\n",
        "      RMSError_train = PR.RMSE(Train_xnew, w, train_y_3)\n",
        "      RMSError_valid = PR.RMSE(Valid_xnew, w, valid_y_3)\n",
        "\n",
        "      train_RMSE3.append(RMSError_train)\n",
        "      valid_RMSE3.append(RMSError_valid)\n",
        "    # print(w)\n",
        "\n",
        "    plt.plot([i for i in range(1,M_max+1)],train_RMSE3,marker='o',label='train_3')\n",
        "    plt.plot([i for i in range(1,M_max+1)],valid_RMSE3,marker='o',label='valid_3')\n",
        "\n",
        "    plt.xlabel('M')\n",
        "    plt.ylabel('RMSE')\n",
        "    # plt.ylim(0,1)\n",
        "    plt.legend()\n",
        "    plt.title(\"RMSE\")\n",
        "    plt.show()\n",
        "\n",
        "    for i in range(1, M_max+1):\n",
        "      print(\"M=%d, training RMSE: %f, validation RMSE: %f\" % (i, train_RMSE3[i-1], valid_RMSE3[i-1]))\n",
        "\n",
        "print()\n",
        "Valid_mean = []\n",
        "for i in range(M_max):\n",
        "  Valid_mean.append((valid_RMSE0[i] + valid_RMSE1[i] + valid_RMSE2[i] + valid_RMSE3[i]) / M_max)\n",
        "  print(\"For M = %d, average of validation error = %f\" % (i+1, Valid_mean[i]))"
      ],
      "execution_count": 12,
      "outputs": [
        {
          "output_type": "display_data",
          "data": {
            "image/png": "[encoded data removed]",
            "text/plain": [
              "<Figure size 432x288 with 1 Axes>"
            ]
          },
          "metadata": {
            "tags": [],
            "needs_background": "light"
          }
        },
        {
          "output_type": "stream",
          "text": [
            "M=1, training RMSE: 0.126847, validation RMSE: 0.183500\n",
            "M=2, training RMSE: 0.126542, validation RMSE: 0.184048\n",
            "M=3, training RMSE: 0.126194, validation RMSE: 0.183674\n",
            "M=4, training RMSE: 0.126107, validation RMSE: 0.183720\n"
          ],
          "name": "stdout"
        },
        {
          "output_type": "display_data",
          "data": {
            "image/png": "[encoded data removed]",
            "text/plain": [
              "<Figure size 432x288 with 1 Axes>"
            ]
          },
          "metadata": {
            "tags": [],
            "needs_background": "light"
          }
        },
        {
          "output_type": "stream",
          "text": [
            "M=1, training RMSE: 0.146333, validation RMSE: 0.130888\n",
            "M=2, training RMSE: 0.145300, validation RMSE: 0.134836\n",
            "M=3, training RMSE: 0.144378, validation RMSE: 0.136253\n",
            "M=4, training RMSE: 0.144098, validation RMSE: 0.136931\n"
          ],
          "name": "stdout"
        },
        {
          "output_type": "display_data",
          "data": {
            "image/png": "[encoded data removed]",
            "text/plain": [
              "<Figure size 432x288 with 1 Axes>"
            ]
          },
          "metadata": {
            "tags": [],
            "needs_background": "light"
          }
        },
        {
          "output_type": "stream",
          "text": [
            "M=1, training RMSE: 0.149710, validation RMSE: 0.117372\n",
            "M=2, training RMSE: 0.149208, validation RMSE: 0.117774\n",
            "M=3, training RMSE: 0.148465, validation RMSE: 0.118162\n",
            "M=4, training RMSE: 0.148134, validation RMSE: 0.118604\n"
          ],
          "name": "stdout"
        },
        {
          "output_type": "display_data",
          "data": {
            "image/png": "[encoded data removed]",
            "text/plain": [
              "<Figure size 432x288 with 1 Axes>"
            ]
          },
          "metadata": {
            "tags": [],
            "needs_background": "light"
          }
        },
        {
          "output_type": "stream",
          "text": [
            "M=1, training RMSE: 0.141163, validation RMSE: 0.149155\n",
            "M=2, training RMSE: 0.139462, validation RMSE: 0.153036\n",
            "M=3, training RMSE: 0.139075, validation RMSE: 0.152423\n",
            "M=4, training RMSE: 0.138897, validation RMSE: 0.152195\n",
            "\n",
            "For M = 1, average of validation error = 0.145229\n",
            "For M = 2, average of validation error = 0.147424\n",
            "For M = 3, average of validation error = 0.147628\n",
            "For M = 4, average of validation error = 0.147863\n"
          ],
          "name": "stdout"
        }
      ]
    }
  ]
}